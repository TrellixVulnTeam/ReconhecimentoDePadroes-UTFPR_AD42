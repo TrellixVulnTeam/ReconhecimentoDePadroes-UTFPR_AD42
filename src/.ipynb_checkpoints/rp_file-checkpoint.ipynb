{
 "cells": [
  {
   "cell_type": "markdown",
   "metadata": {},
   "source": [
    "# Reconhecimento de Padrões\n",
    "#### UTFPR — Universidade Tecnológica Federal do Paraná \n",
    "#### Nomes: Rafael Menezes Barboza, Carlos Alexandre Peron dos Santos\n",
    "\n",
    "\n",
    "Este trabalho tem como objetivo buscar por caracteristicas na base \"EMG data for gestures Data Set\" e assim identificar posições das maos. O link abaixo é referente a base de dados utilizada disponivel para download.\n",
    "https://archive.ics.uci.edu/ml/datasets/EMG+data+for+gestures#\n",
    "\n",
    "O codigo fonte esta disponivel publicamente no GitHub e pode ser acessado pelo link abaixo.\n",
    "https://github.com/rmmenezes/ReconhecimentoDePadroes-UTFPR.git"
   ]
  },
  {
   "cell_type": "markdown",
   "metadata": {},
   "source": [
    "Import das bibliotecas e estruturas necessárias"
   ]
  },
  {
   "cell_type": "code",
   "execution_count": 1,
   "metadata": {},
   "outputs": [],
   "source": [
    "import os\n",
    "import numpy as np\n",
    "\n",
    "X = []\n",
    "y = []\n",
    "caracteristicas = []\n",
    "classes = []"
   ]
  },
  {
   "cell_type": "markdown",
   "metadata": {},
   "source": [
    "Leitura dos dados, arquvo por aqurivo e insere nas variaves as caracteristicas e as classes."
   ]
  },
  {
   "cell_type": "code",
   "execution_count": 2,
   "metadata": {},
   "outputs": [
    {
     "name": "stdout",
     "output_type": "stream",
     "text": [
      "(1816,) (1816,)\n",
      "(2287, 8)\n"
     ]
    }
   ],
   "source": [
    "diretorio_db = \"../data/EMG_data_for_gestures-master\"\n",
    "pastas = os.listdir(diretorio_db)\n",
    "for pasta in pastas:\n",
    "    arquivos = os.listdir(diretorio_db + '/' + pasta)\n",
    "    #print(pasta)\n",
    "    for arquivo in arquivos:\n",
    "        #le o arquivo e divide linha por linha\n",
    "        conteudo = open(diretorio_db + '/' + pasta + '/' + arquivo).read().split('\\n')\n",
    "        #remove ultima linha (linha em branco)\n",
    "        conteudo.pop()\n",
    "        #remove primeira linha (cabecalho)\n",
    "        conteudo.pop(0)\n",
    "        classe_atual = '0'\n",
    "        experimento_caracteristicas = []\n",
    "        experimento_classes = []\n",
    "        for i in range(len(conteudo)):\n",
    "            conteudo[i] = conteudo[i].split('\\t')\n",
    "            #remove primeira linha (campo \"time\")\n",
    "            conteudo[i].pop(0)\n",
    "            if conteudo[i][-1] != classe_atual:\n",
    "                caracteristicas.append(experimento_caracteristicas)\n",
    "                classes.append(experimento_classes)\n",
    "                classe_atual = conteudo[i][-1]\n",
    "\n",
    "                experimento_caracteristicas = []\n",
    "                experimento_classes = []\n",
    "                experimento_caracteristicas.append(conteudo[i][:-1])\n",
    "                experimento_classes.append(conteudo[i][-1])\n",
    "            else:\n",
    "                experimento_caracteristicas.append(conteudo[i][:-1])\n",
    "                experimento_classes.append(conteudo[i][-1])\n",
    "            \n",
    "        caracteristicas.append(experimento_caracteristicas)\n",
    "        classes.append(experimento_classes)\n",
    "        #print(len(caracteristicas))\n",
    "        \n",
    "\n",
    "for i in range(len(caracteristicas)):\n",
    "    for j in range(len(caracteristicas[i])):\n",
    "        for k in range(len(caracteristicas[i][j])):\n",
    "            caracteristicas[i][j][k] = float(caracteristicas[i][j][k])\n",
    "        caracteristicas[i][j] = np.array(caracteristicas[i][j])\n",
    "    caracteristicas[i] = np.array(caracteristicas[i])\n",
    "    classes[i] = np.array(classes[i])\n",
    "caracteristicas = np.array(caracteristicas)\n",
    "classes = np.array(classes)\n",
    "\n",
    "print(caracteristicas.shape, classes.shape)\n",
    "print(caracteristicas[0].shape)"
   ]
  },
  {
   "cell_type": "code",
   "execution_count": 4,
   "metadata": {},
   "outputs": [
    {
     "name": "stdout",
     "output_type": "stream",
     "text": [
      "1816 8\n",
      "1816 8\n",
      "1816 8\n",
      "1816 8\n",
      "1816\n"
     ]
    }
   ],
   "source": [
    "quantos_valores = []\n",
    "\n",
    "somas_geral = []\n",
    "somas_temp = []\n",
    "\n",
    "somas_quadraticas = []\n",
    "somas_quadraticas_temp = []\n",
    "\n",
    "somas_quadraticas_sem_modulo = []\n",
    "somas_quadraticas_sem_modulo_temp = []\n",
    "\n",
    "somas_wf = []\n",
    "somas_wf_temp = []\n",
    "\n",
    "for i in range(8):\n",
    "    somas_temp.append(0.0)\n",
    "    somas_quadraticas_temp.append(0.0)\n",
    "    somas_wf_temp.append(0.0)\n",
    "    somas_quadraticas_sem_modulo_temp.append(0.0)\n",
    "\n",
    "for experimento in caracteristicas:\n",
    "    for tipo in experimento:\n",
    "        cont = 0\n",
    "        for i in range(len(tipo)):\n",
    "            somas_temp[i] += abs(float(tipo[i]))\n",
    "            somas_quadraticas_temp[i] += abs(float(tipo[i])) ** 2\n",
    "            somas_quadraticas_sem_modulo_temp[i] += float(tipo[i]) ** 2\n",
    "            cont += 1\n",
    "            if(cont < len(tipo) - 1):\n",
    "                somas_wf_temp[i] = abs(float(tipo[i+1]) - float(tipo[i]))\n",
    "    somas_geral.append(somas_temp)\n",
    "    somas_quadraticas.append(somas_quadraticas_temp)\n",
    "    somas_wf.append(somas_wf_temp)\n",
    "    somas_quadraticas_sem_modulo.append(somas_quadraticas_sem_modulo_temp)\n",
    "    \n",
    "    #arrumar esses vetores, mover +1 nivel interno\n",
    "    quantos_valores.append(cont)\n",
    "    \n",
    "\n",
    "print(len(somas_geral), len(somas_geral[0]))\n",
    "print(len(somas_quadraticas), len(somas_quadraticas[0]))\n",
    "print(len(somas_wf), len(somas_wf[0]))\n",
    "print(len(somas_quadraticas_sem_modulo), len(somas_quadraticas_sem_modulo[0]))\n",
    "print(len(quantos_valores))\n",
    "\n",
    "\n"
   ]
  },
  {
   "cell_type": "markdown",
   "metadata": {},
   "source": [
    "Realiza os calculos para extrair as caracteriristicas, e vetores auxiliares."
   ]
  },
  {
   "cell_type": "code",
   "execution_count": 5,
   "metadata": {},
   "outputs": [
    {
     "name": "stdout",
     "output_type": "stream",
     "text": [
      "(1816, 8)\n",
      "(1816, 8)\n",
      "(1816, 8)\n",
      "(1816, 8)\n",
      "(1816, 8)\n",
      "(1816, 8)\n",
      "(1816, 8)\n"
     ]
    }
   ],
   "source": [
    "import math\n",
    "\n",
    "iemg = np.array(somas_geral)\n",
    "\n",
    "mav = np.array(somas_geral)\n",
    "for i in range(len(mav)):\n",
    "    for j in range(len(mav[i])):\n",
    "        mav[i][j] *= 1/len(quantos_valores)\n",
    "\n",
    "ssi = np.array(somas_quadraticas)\n",
    "\n",
    "mavs = mav\n",
    "for i in range(len(mavs)-1):\n",
    "    mavs[i] = mavs[i+1] - mavs[i]\n",
    "\n",
    "var = np.array(somas_quadraticas_sem_modulo)\n",
    "for i in range(len(var)):\n",
    "    for j in range(len(var[i])):\n",
    "        var[i][j] *= 1/(len(quantos_valores) - 1)\n",
    "\n",
    "rms = ssi\n",
    "for i in range(len(rms)):\n",
    "    for j in range(len(rms[i])):\n",
    "        rms[i][j] *= math.sqrt(1/len(quantos_valores))\n",
    "        \n",
    "wf = np.array(somas_wf)\n",
    "\n",
    "\n",
    "print(iemg.shape)\n",
    "print(mav.shape)\n",
    "print(ssi.shape)\n",
    "print(mavs.shape)\n",
    "print(var.shape)\n",
    "print(rms.shape)\n",
    "print(wf.shape)\n",
    "        \n",
    "\n",
    "\n",
    "# [\n",
    "#     [[1,2,3], [1,2,3], [1,2,3], [1,2,3]], # canal 1\n",
    "#     [[1,2,3], [1,2,3], [1,2,3], [1,2,3]], # canal 2\n",
    "#     [[1,2,3], [1,2,3], [1,2,3], [1,2,3]], # canal 3\n",
    "# ]\n",
    "\n",
    "# [\n",
    "#     [\n",
    "#         [2, 3, 4, 5], [2, 3, 4, 5], [2, 3, 4, 5],\n",
    "#     ],\n",
    "#     [\n",
    "#         [2, 3, 4, 5], [2, 3, 4, 5], [2, 3, 4, 5],\n",
    "#     ],\n",
    "#     [\n",
    "#         [2, 3, 4, 5], [2, 3, 4, 5], [2, 3, 4, 5],\n",
    "#     ],\n",
    "# ]\n",
    "\n"
   ]
  },
  {
   "cell_type": "markdown",
   "metadata": {},
   "source": [
    "Transformação do sinal para o domínio da frequência, para extrarir as caracteristicas."
   ]
  },
  {
   "cell_type": "code",
   "execution_count": 1,
   "metadata": {},
   "outputs": [
    {
     "ename": "ModuleNotFoundError",
     "evalue": "No module named 'librosa'",
     "output_type": "error",
     "traceback": [
      "\u001b[0;31m---------------------------------------------------------------------------\u001b[0m",
      "\u001b[0;31mModuleNotFoundError\u001b[0m                       Traceback (most recent call last)",
      "\u001b[0;32m<ipython-input-1-ac1ca57ba171>\u001b[0m in \u001b[0;36m<module>\u001b[0;34m\u001b[0m\n\u001b[0;32m----> 1\u001b[0;31m \u001b[0;32mfrom\u001b[0m \u001b[0mlibrosa\u001b[0m \u001b[0;32mimport\u001b[0m \u001b[0mstft\u001b[0m\u001b[0;34m\u001b[0m\u001b[0;34m\u001b[0m\u001b[0m\n\u001b[0m\u001b[1;32m      2\u001b[0m \u001b[0;32mfrom\u001b[0m \u001b[0mscipy\u001b[0m\u001b[0;34m.\u001b[0m\u001b[0msignal\u001b[0m \u001b[0;32mimport\u001b[0m \u001b[0mwelch\u001b[0m\u001b[0;34m\u001b[0m\u001b[0;34m\u001b[0m\u001b[0m\n\u001b[1;32m      3\u001b[0m \u001b[0;34m\u001b[0m\u001b[0m\n\u001b[1;32m      4\u001b[0m \u001b[0mfmd\u001b[0m \u001b[0;34m=\u001b[0m \u001b[0;34m[\u001b[0m\u001b[0;34m]\u001b[0m\u001b[0;34m\u001b[0m\u001b[0;34m\u001b[0m\u001b[0m\n\u001b[1;32m      5\u001b[0m \u001b[0mfmn\u001b[0m \u001b[0;34m=\u001b[0m \u001b[0;34m[\u001b[0m\u001b[0;34m]\u001b[0m\u001b[0;34m\u001b[0m\u001b[0;34m\u001b[0m\u001b[0m\n",
      "\u001b[0;31mModuleNotFoundError\u001b[0m: No module named 'librosa'"
     ]
    }
   ],
   "source": [
    "from librosa import stft\n",
    "from scipy.signal import welch\n",
    "\n",
    "fmd = []\n",
    "fmn = []\n",
    "cont = 0\n",
    "for experimento in caracteristicas:\n",
    "    cont += 1\n",
    "    if len(experimento) == 0:\n",
    "        fmd.append(np.zeros(8))\n",
    "        fmn.append(np.zeros(8))\n",
    "    else:\n",
    "        somatorio_fmd = 0\n",
    "        somatorio_fmn = 0\n",
    "        fmd_temp = []\n",
    "        fmn_temp = []\n",
    "        for i in range(len(experimento[0])):\n",
    "            passo_necessario = np.asfortranarray(experimento[:,i])\n",
    "            transformada = np.abs(stft(passo_necessario, n_fft=512, hop_length=512))\n",
    "            psd = welch(transformada)\n",
    "            Fi = (cont * 500) / (2 * len(psd[1]))\n",
    "            for linha in psd[1]:\n",
    "                somatorio_fmd += linha.sum()\n",
    "                somatorio_fmn += linha.sum()\n",
    "            fmn_temp.append((Fi * somatorio_fmn) / somatorio_fmn)\n",
    "            fmd_temp.append(0.5 * somatorio_fmd)\n",
    "        fmd_temp = np.array(fmd_temp)\n",
    "        fmd.append(fmd_temp)\n",
    "        fmn_temp = np.array(fmn_temp)\n",
    "        fmn.append(fmn_temp)\n",
    "fmd = np.array(fmd)\n",
    "fmn = np.array(fmn)\n",
    "\n",
    "print(fmd.shape)\n",
    "print(fmn.shape)"
   ]
  },
  {
   "cell_type": "markdown",
   "metadata": {},
   "source": [
    "Normalização das caracteristicas"
   ]
  },
  {
   "cell_type": "code",
   "execution_count": 55,
   "metadata": {},
   "outputs": [
    {
     "name": "stdout",
     "output_type": "stream",
     "text": [
      "(1816, 72)\n",
      "(1816, 72)\n",
      "(1452, 72)\n",
      "(364, 72)\n",
      "(1452,)\n",
      "(364,)\n"
     ]
    }
   ],
   "source": [
    "from sklearn.preprocessing import StandardScaler\n",
    "from sklearn.model_selection import train_test_split\n",
    "\n",
    "X = np.concatenate((iemg, mav, ssi, mavs, var, rms, wf, fmd, fmn), axis=1)\n",
    "print(X.shape)\n",
    "\n",
    "ss = StandardScaler()\n",
    "ss.fit(X)\n",
    "ss.transform(X)\n",
    "\n",
    "print(X.shape)\n",
    "\n",
    "X_train, X_test, y_train, y_test = train_test_split(X, classes, test_size = 0.2)"
   ]
  },
  {
   "cell_type": "markdown",
   "metadata": {},
   "source": [
    "Classificação dos sinais.\n",
    "0 - dados não marcados,\n",
    "1 - mão em repouso,\n",
    "2 - mão fechada em punho,\n",
    "3 - flexão do punho,\n",
    "4 - extensão do punho,\n",
    "5 - desvios radiais,\n",
    "6 - desvios ulnares,\n",
    "7 - palma estendida (o gesto não foi realizado por todos os sujeitos)"
   ]
  },
  {
   "cell_type": "code",
   "execution_count": null,
   "metadata": {},
   "outputs": [],
   "source": []
  }
 ],
 "metadata": {
  "kernelspec": {
   "display_name": "Python 3",
   "language": "python",
   "name": "python3"
  },
  "language_info": {
   "codemirror_mode": {
    "name": "ipython",
    "version": 3
   },
   "file_extension": ".py",
   "mimetype": "text/x-python",
   "name": "python",
   "nbconvert_exporter": "python",
   "pygments_lexer": "ipython3",
   "version": "3.6.8"
  }
 },
 "nbformat": 4,
 "nbformat_minor": 2
}
