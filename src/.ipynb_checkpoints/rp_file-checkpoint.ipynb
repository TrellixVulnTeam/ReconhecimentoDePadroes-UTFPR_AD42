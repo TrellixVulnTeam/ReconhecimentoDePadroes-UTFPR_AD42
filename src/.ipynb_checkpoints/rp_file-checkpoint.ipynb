{
 "cells": [
  {
   "cell_type": "markdown",
   "metadata": {},
   "source": [
    "# Reconhecimento de Padrões\n",
    "#### UTFPR — Universidade Tecnológica Federal do Paraná \n",
    "#### Nomes: Rafael Menezes Barboza, Carlos Alexandre Peron dos Santos\n",
    "\n",
    "\n",
    "Este trabalho tem como objetivo buscar por caracteristicas na base \"EMG data for gestures Data Set\" e assim identificar posições das maos. O link abaixo é referente a base de dados utilizada disponivel para download.\n",
    "https://archive.ics.uci.edu/ml/datasets/EMG+data+for+gestures#\n",
    "\n",
    "O codigo fonte esta disponivel publicamente no GitHub e pode ser acessado pelo link abaixo.\n",
    "https://github.com/rmmenezes/ReconhecimentoDePadroes-UTFPR.git"
   ]
  },
  {
   "cell_type": "code",
   "execution_count": null,
   "metadata": {},
   "outputs": [],
   "source": []
  },
  {
   "cell_type": "code",
   "execution_count": null,
   "metadata": {},
   "outputs": [],
   "source": []
  }
 ],
 "metadata": {
  "kernelspec": {
   "display_name": "Python 3",
   "language": "python",
   "name": "python3"
  },
  "language_info": {
   "codemirror_mode": {
    "name": "ipython",
    "version": 3
   },
   "file_extension": ".py",
   "mimetype": "text/x-python",
   "name": "python",
   "nbconvert_exporter": "python",
   "pygments_lexer": "ipython3",
   "version": "3.6.8"
  }
 },
 "nbformat": 4,
 "nbformat_minor": 2
}
