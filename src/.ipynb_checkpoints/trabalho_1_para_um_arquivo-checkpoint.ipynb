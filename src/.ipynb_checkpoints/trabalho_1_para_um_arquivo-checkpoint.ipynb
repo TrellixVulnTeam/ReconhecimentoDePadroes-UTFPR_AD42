{
 "cells": [
  {
   "cell_type": "code",
   "execution_count": 1,
   "metadata": {},
   "outputs": [],
   "source": [
    "import os\n",
    "import numpy as np\n",
    "\n",
    "X = []\n",
    "y = []\n",
    "caracteristicas = []\n",
    "classes = []"
   ]
  },
  {
   "cell_type": "code",
   "execution_count": 7,
   "metadata": {
    "scrolled": true
   },
   "outputs": [
    {
     "name": "stdout",
     "output_type": "stream",
     "text": [
      "['1_raw_data_13-12_22.03.16.txt', '2_raw_data_13-13_22.03.16.txt']\n",
      "1\t1e-05\t-2e-05\t-1e-05\t-3e-05\t0\t-1e-05\t0\t-1e-05\t0\n",
      "6\n",
      "3780\n",
      "3525\n",
      "3816\n",
      "3441\n",
      "3615\n",
      "3747\n",
      "2\t-1e-05\t-4e-05\t-2e-05\t-2e-05\t-1e-05\t-1e-05\t1e-05\t-3e-05\t0\n"
     ]
    },
    {
     "name": "stderr",
     "output_type": "stream",
     "text": [
      "IOPub data rate exceeded.\n",
      "The notebook server will temporarily stop sending output\n",
      "to the client in order to avoid crashing it.\n",
      "To change this limit, set the config variable\n",
      "`--NotebookApp.iopub_data_rate_limit`.\n",
      "\n",
      "Current values:\n",
      "NotebookApp.iopub_data_rate_limit=1000000.0 (bytes/sec)\n",
      "NotebookApp.rate_limit_window=3.0 (secs)\n",
      "\n"
     ]
    },
    {
     "ename": "TypeError",
     "evalue": "float() argument must be a string or a number, not 'list'",
     "output_type": "error",
     "traceback": [
      "\u001b[0;31m---------------------------------------------------------------------------\u001b[0m",
      "\u001b[0;31mTypeError\u001b[0m                                 Traceback (most recent call last)",
      "\u001b[0;32m<ipython-input-7-55b2959ff2f6>\u001b[0m in \u001b[0;36m<module>\u001b[0;34m\u001b[0m\n\u001b[1;32m     69\u001b[0m     \u001b[0;32mfor\u001b[0m \u001b[0mj\u001b[0m \u001b[0;32min\u001b[0m \u001b[0mrange\u001b[0m\u001b[0;34m(\u001b[0m\u001b[0mlen\u001b[0m\u001b[0;34m(\u001b[0m\u001b[0mcaracteristicas\u001b[0m\u001b[0;34m[\u001b[0m\u001b[0mi\u001b[0m\u001b[0;34m]\u001b[0m\u001b[0;34m)\u001b[0m\u001b[0;34m)\u001b[0m\u001b[0;34m:\u001b[0m\u001b[0;34m\u001b[0m\u001b[0m\n\u001b[1;32m     70\u001b[0m         \u001b[0;32mfor\u001b[0m \u001b[0mk\u001b[0m \u001b[0;32min\u001b[0m \u001b[0mrange\u001b[0m\u001b[0;34m(\u001b[0m\u001b[0mlen\u001b[0m\u001b[0;34m(\u001b[0m\u001b[0mcaracteristicas\u001b[0m\u001b[0;34m[\u001b[0m\u001b[0mi\u001b[0m\u001b[0;34m]\u001b[0m\u001b[0;34m[\u001b[0m\u001b[0mj\u001b[0m\u001b[0;34m]\u001b[0m\u001b[0;34m)\u001b[0m\u001b[0;34m)\u001b[0m\u001b[0;34m:\u001b[0m\u001b[0;34m\u001b[0m\u001b[0m\n\u001b[0;32m---> 71\u001b[0;31m             \u001b[0mcaracteristicas\u001b[0m\u001b[0;34m[\u001b[0m\u001b[0mi\u001b[0m\u001b[0;34m]\u001b[0m\u001b[0;34m[\u001b[0m\u001b[0mj\u001b[0m\u001b[0;34m]\u001b[0m\u001b[0;34m[\u001b[0m\u001b[0mk\u001b[0m\u001b[0;34m]\u001b[0m \u001b[0;34m=\u001b[0m \u001b[0mfloat\u001b[0m\u001b[0;34m(\u001b[0m\u001b[0mcaracteristicas\u001b[0m\u001b[0;34m[\u001b[0m\u001b[0mi\u001b[0m\u001b[0;34m]\u001b[0m\u001b[0;34m[\u001b[0m\u001b[0mj\u001b[0m\u001b[0;34m]\u001b[0m\u001b[0;34m[\u001b[0m\u001b[0mk\u001b[0m\u001b[0;34m]\u001b[0m\u001b[0;34m)\u001b[0m\u001b[0;34m\u001b[0m\u001b[0m\n\u001b[0m\u001b[1;32m     72\u001b[0m         \u001b[0mcaracteristicas\u001b[0m\u001b[0;34m[\u001b[0m\u001b[0mi\u001b[0m\u001b[0;34m]\u001b[0m\u001b[0;34m[\u001b[0m\u001b[0mj\u001b[0m\u001b[0;34m]\u001b[0m \u001b[0;34m=\u001b[0m \u001b[0mnp\u001b[0m\u001b[0;34m.\u001b[0m\u001b[0marray\u001b[0m\u001b[0;34m(\u001b[0m\u001b[0mcaracteristicas\u001b[0m\u001b[0;34m[\u001b[0m\u001b[0mi\u001b[0m\u001b[0;34m]\u001b[0m\u001b[0;34m[\u001b[0m\u001b[0mj\u001b[0m\u001b[0;34m]\u001b[0m\u001b[0;34m)\u001b[0m\u001b[0;34m\u001b[0m\u001b[0m\n\u001b[1;32m     73\u001b[0m     \u001b[0mcaracteristicas\u001b[0m\u001b[0;34m[\u001b[0m\u001b[0mi\u001b[0m\u001b[0;34m]\u001b[0m \u001b[0;34m=\u001b[0m \u001b[0mnp\u001b[0m\u001b[0;34m.\u001b[0m\u001b[0marray\u001b[0m\u001b[0;34m(\u001b[0m\u001b[0mcaracteristicas\u001b[0m\u001b[0;34m[\u001b[0m\u001b[0mi\u001b[0m\u001b[0;34m]\u001b[0m\u001b[0;34m)\u001b[0m\u001b[0;34m\u001b[0m\u001b[0m\n",
      "\u001b[0;31mTypeError\u001b[0m: float() argument must be a string or a number, not 'list'"
     ]
    }
   ],
   "source": [
    "import os\n",
    "import numpy as np\n",
    "\n",
    "X = []\n",
    "y = []\n",
    "caracteristicas = []\n",
    "classes = []\n",
    "\n",
    "arquivos = os.listdir('../data/EMG_data_for_gestures-master/01')\n",
    "print(arquivos)\n",
    "\n",
    "for arquivo in arquivos:\n",
    "    #le o arquivo e divide linha por linha\n",
    "    conteudo = open('../data/EMG_data_for_gestures-master/01/' + arquivo).read().split('\\n')\n",
    "    #remove ultima linha (linha em branco)\n",
    "    conteudo.pop()\n",
    "    #remove primeira linha (cabecalho)\n",
    "    conteudo.pop(0)\n",
    "    print(conteudo[0])\n",
    "    \n",
    "    classe_atual = '1'\n",
    "    experimento_caracteristicas = [[],[],[],[],[],[]]\n",
    "    experimento_classes = []\n",
    "    for i in range(len(conteudo)):\n",
    "        conteudo[i] = conteudo[i].split('\\t')\n",
    "        #remove primeira linha (campo \"time\")\n",
    "        conteudo[i].pop(0)\n",
    "        if conteudo[i][-1] != '0' and conteudo[i][-1] != '7':\n",
    "            if conteudo[i][-1] != classe_atual:\n",
    "#                 caracteristicas.append(experimento_caracteristicas)\n",
    "                if(len(experimento_classes)) == 0:\n",
    "                    classes.append('0')\n",
    "                else:\n",
    "                    classes.append(experimento_classes[0])\n",
    "                classe_atual = conteudo[i][-1]\n",
    "\n",
    "#                 experimento_caracteristicas[int(conteudo[i][-1]) - 1] = []\n",
    "                experimento_classes = []\n",
    "                experimento_caracteristicas[int(conteudo[i][-1]) - 1].append(conteudo[i][:-1])\n",
    "                experimento_classes.append(conteudo[i][-1])\n",
    "            else:\n",
    "                experimento_caracteristicas[int(conteudo[i][-1]) - 1].append(conteudo[i][:-1])\n",
    "                experimento_classes.append(conteudo[i][-1])\n",
    "\n",
    "    print(len(experimento_caracteristicas))\n",
    "    for i in range(len(experimento_caracteristicas)):\n",
    "        print(len(experimento_caracteristicas[i]))\n",
    "        \n",
    "    caracteristicas.append(experimento_caracteristicas)\n",
    "    classes.append(experimento_classes[0])\n",
    "    \n",
    "print(caracteristicas)\n",
    "\n",
    "print(len(caracteristicas))\n",
    "for i in range(len(caracteristicas)):\n",
    "    print(len(caracteristicas[i]))\n",
    "    \n",
    "#print(caracteristicas)\n",
    "\n",
    "menor = min([len(c) for c in caracteristicas])\n",
    "print('Menor:', menor)\n",
    "caracs = [c[:menor] for c in caracteristicas]\n",
    "caracs = np.array(caracs)\n",
    "print(caracs.shape)\n",
    "\n",
    "\n",
    "\n",
    "for i in range(len(caracteristicas)):\n",
    "    for j in range(len(caracteristicas[i])):\n",
    "        for k in range(len(caracteristicas[i][j])):\n",
    "            caracteristicas[i][j][k] = float(caracteristicas[i][j][k])\n",
    "        caracteristicas[i][j] = np.array(caracteristicas[i][j])\n",
    "    caracteristicas[i] = np.array(caracteristicas[i])\n",
    "    classes[i] = np.array(classes[i])\n",
    "caracteristicas = np.array(caracteristicas)\n",
    "classes = np.array(classes)\n",
    "\n",
    "# print(caracteristicas.shape, classes.shape)"
   ]
  },
  {
   "cell_type": "code",
   "execution_count": null,
   "metadata": {},
   "outputs": [],
   "source": []
  },
  {
   "cell_type": "code",
   "execution_count": null,
   "metadata": {},
   "outputs": [],
   "source": []
  },
  {
   "cell_type": "code",
   "execution_count": null,
   "metadata": {},
   "outputs": [],
   "source": []
  },
  {
   "cell_type": "code",
   "execution_count": 18,
   "metadata": {},
   "outputs": [
    {
     "name": "stdout",
     "output_type": "stream",
     "text": [
      "['1_raw_data_13-12_22.03.16.txt', '2_raw_data_13-13_22.03.16.txt']\n",
      "1\t1e-05\t-2e-05\t-1e-05\t-3e-05\t0\t-1e-05\t0\t-1e-05\t0\n",
      "2\t-1e-05\t-4e-05\t-2e-05\t-2e-05\t-1e-05\t-1e-05\t1e-05\t-3e-05\t0\n",
      "6\n",
      "7311\n",
      "6806\n",
      "7329\n",
      "6824\n",
      "7075\n",
      "7143\n",
      "Menor: 6806\n",
      "(6, 6806, 8)\n",
      "(6, 8, 6806)\n"
     ]
    }
   ],
   "source": [
    "import os\n",
    "import numpy as np\n",
    "\n",
    "X = []\n",
    "y = []\n",
    "caracteristicas = []\n",
    "classes = []\n",
    "\n",
    "arquivos = os.listdir('../data/EMG_data_for_gestures-master/01')\n",
    "print(arquivos)\n",
    "\n",
    "experimento_caracteristicas = [[],[],[],[],[],[]]\n",
    "experimento_classes = []\n",
    "    \n",
    "for arquivo in arquivos:\n",
    "    #le o arquivo e divide linha por linha\n",
    "    conteudo = open('../data/EMG_data_for_gestures-master/01/' + arquivo).read().split('\\n')\n",
    "    #remove ultima linha (linha em branco)\n",
    "    conteudo.pop()\n",
    "    #remove primeira linha (cabecalho)\n",
    "    conteudo.pop(0)\n",
    "    print(conteudo[0])\n",
    "    \n",
    "    for i in range(len(conteudo)):\n",
    "        conteudo[i] = conteudo[i].split('\\t')\n",
    "        #remove primeira linha (campo \"time\")\n",
    "        conteudo[i].pop(0)\n",
    "        if conteudo[i][-1] != '0' and conteudo[i][-1] != '7':\n",
    "            experimento_caracteristicas[int(conteudo[i][-1]) - 1].append(conteudo[i][:-1])\n",
    "            \n",
    "print(len(experimento_caracteristicas))\n",
    "for i in range(len(experimento_caracteristicas)):\n",
    "    print(len(experimento_caracteristicas[i]))\n",
    "\n",
    "menor = min([len(c) for c in experimento_caracteristicas])\n",
    "print('Menor:', menor)\n",
    "caracs = [c[:menor] for c in experimento_caracteristicas]\n",
    "caracs = np.array(caracs)\n",
    "print(caracs.shape)\n",
    "caracs = caracs.swapaxes(1, 2)\n",
    "print(caracs.shape)"
   ]
  },
  {
   "cell_type": "code",
   "execution_count": 25,
   "metadata": {},
   "outputs": [
    {
     "name": "stdout",
     "output_type": "stream",
     "text": [
      "<class 'numpy.ndarray'>\n",
      "(6, 8, 25, 512)\n"
     ]
    }
   ],
   "source": [
    "salto = 256\n",
    "segmento = 512\n",
    "n_win = int((caracs.shape[-1] - segmento) / salto) + 1\n",
    "ids = np.arange(n_win) * salto\n",
    "x = np.array([caracs[:,:,k:(k + segmento)] for k in ids]).transpose(1, 2, 0, 3)\n",
    "print(type(x[0][0][0][0]))\n",
    "print(x.shape)"
   ]
  },
  {
   "cell_type": "code",
   "execution_count": null,
   "metadata": {},
   "outputs": [],
   "source": []
  },
  {
   "cell_type": "code",
   "execution_count": 24,
   "metadata": {},
   "outputs": [
    {
     "ename": "UFuncTypeError",
     "evalue": "ufunc 'absolute' did not contain a loop with signature matching types dtype('<U8') -> dtype('<U8')",
     "output_type": "error",
     "traceback": [
      "\u001b[0;31m---------------------------------------------------------------------------\u001b[0m",
      "\u001b[0;31mUFuncTypeError\u001b[0m                            Traceback (most recent call last)",
      "\u001b[0;32m<ipython-input-24-7917d5287e28>\u001b[0m in \u001b[0;36m<module>\u001b[0;34m\u001b[0m\n\u001b[1;32m      3\u001b[0m \u001b[0;31m#print(var.shape)\u001b[0m\u001b[0;34m\u001b[0m\u001b[0;34m\u001b[0m\u001b[0m\n\u001b[1;32m      4\u001b[0m \u001b[0;31m# RMS\u001b[0m\u001b[0;34m\u001b[0m\u001b[0;34m\u001b[0m\u001b[0m\n\u001b[0;32m----> 5\u001b[0;31m \u001b[0mrms\u001b[0m \u001b[0;34m=\u001b[0m \u001b[0mnp\u001b[0m\u001b[0;34m.\u001b[0m\u001b[0msqrt\u001b[0m\u001b[0;34m(\u001b[0m\u001b[0mnp\u001b[0m\u001b[0;34m.\u001b[0m\u001b[0msum\u001b[0m\u001b[0;34m(\u001b[0m\u001b[0mnp\u001b[0m\u001b[0;34m.\u001b[0m\u001b[0mabs\u001b[0m\u001b[0;34m(\u001b[0m\u001b[0mx\u001b[0m\u001b[0;34m)\u001b[0m \u001b[0;34m**\u001b[0m \u001b[0;36m2\u001b[0m\u001b[0;34m,\u001b[0m \u001b[0maxis\u001b[0m\u001b[0;34m=\u001b[0m\u001b[0;34m-\u001b[0m\u001b[0;36m1\u001b[0m\u001b[0;34m)\u001b[0m \u001b[0;34m/\u001b[0m \u001b[0;34m(\u001b[0m\u001b[0mnp\u001b[0m\u001b[0;34m.\u001b[0m\u001b[0mprod\u001b[0m\u001b[0;34m(\u001b[0m\u001b[0mx\u001b[0m\u001b[0;34m.\u001b[0m\u001b[0mshape\u001b[0m\u001b[0;34m[\u001b[0m\u001b[0;34m:\u001b[0m\u001b[0;34m-\u001b[0m\u001b[0;36m1\u001b[0m\u001b[0;34m]\u001b[0m\u001b[0;34m)\u001b[0m \u001b[0;34m-\u001b[0m \u001b[0;36m1\u001b[0m\u001b[0;34m)\u001b[0m\u001b[0;34m)\u001b[0m\u001b[0;34m\u001b[0m\u001b[0m\n\u001b[0m\u001b[1;32m      6\u001b[0m \u001b[0mprint\u001b[0m\u001b[0;34m(\u001b[0m\u001b[0mrms\u001b[0m\u001b[0;34m.\u001b[0m\u001b[0mshape\u001b[0m\u001b[0;34m)\u001b[0m\u001b[0;34m\u001b[0m\u001b[0m\n",
      "\u001b[0;31mUFuncTypeError\u001b[0m: ufunc 'absolute' did not contain a loop with signature matching types dtype('<U8') -> dtype('<U8')"
     ]
    }
   ],
   "source": [
    "# VAR\n",
    "#var = np.sum(x ** 2, axis=-1) / (np.prod(x.shape[:-1]) - 1)\n",
    "#print(var.shape)\n",
    "# RMS\n",
    "rms = np.sqrt(np.sum(np.abs(x) ** 2, axis=-1) / (np.prod(x.shape[:-1]) - 1))\n",
    "print(rms.shape)"
   ]
  },
  {
   "cell_type": "code",
   "execution_count": null,
   "metadata": {},
   "outputs": [],
   "source": []
  },
  {
   "cell_type": "code",
   "execution_count": null,
   "metadata": {},
   "outputs": [],
   "source": []
  },
  {
   "cell_type": "code",
   "execution_count": null,
   "metadata": {},
   "outputs": [],
   "source": []
  },
  {
   "cell_type": "code",
   "execution_count": null,
   "metadata": {},
   "outputs": [],
   "source": []
  },
  {
   "cell_type": "code",
   "execution_count": null,
   "metadata": {},
   "outputs": [],
   "source": []
  },
  {
   "cell_type": "code",
   "execution_count": null,
   "metadata": {},
   "outputs": [],
   "source": []
  },
  {
   "cell_type": "code",
   "execution_count": null,
   "metadata": {},
   "outputs": [],
   "source": []
  },
  {
   "cell_type": "code",
   "execution_count": null,
   "metadata": {},
   "outputs": [],
   "source": []
  },
  {
   "cell_type": "code",
   "execution_count": null,
   "metadata": {},
   "outputs": [],
   "source": []
  },
  {
   "cell_type": "code",
   "execution_count": null,
   "metadata": {},
   "outputs": [],
   "source": []
  },
  {
   "cell_type": "code",
   "execution_count": null,
   "metadata": {},
   "outputs": [],
   "source": []
  },
  {
   "cell_type": "code",
   "execution_count": null,
   "metadata": {},
   "outputs": [],
   "source": []
  },
  {
   "cell_type": "code",
   "execution_count": null,
   "metadata": {},
   "outputs": [],
   "source": []
  },
  {
   "cell_type": "code",
   "execution_count": null,
   "metadata": {},
   "outputs": [],
   "source": []
  },
  {
   "cell_type": "code",
   "execution_count": null,
   "metadata": {},
   "outputs": [],
   "source": []
  },
  {
   "cell_type": "code",
   "execution_count": null,
   "metadata": {},
   "outputs": [],
   "source": []
  },
  {
   "cell_type": "code",
   "execution_count": null,
   "metadata": {},
   "outputs": [],
   "source": []
  }
 ],
 "metadata": {
  "kernelspec": {
   "display_name": "Python 3",
   "language": "python",
   "name": "python3"
  },
  "language_info": {
   "codemirror_mode": {
    "name": "ipython",
    "version": 3
   },
   "file_extension": ".py",
   "mimetype": "text/x-python",
   "name": "python",
   "nbconvert_exporter": "python",
   "pygments_lexer": "ipython3",
   "version": "3.5.3"
  }
 },
 "nbformat": 4,
 "nbformat_minor": 2
}
