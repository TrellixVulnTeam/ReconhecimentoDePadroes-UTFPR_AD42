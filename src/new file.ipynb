{
 "cells": [
  {
   "cell_type": "code",
   "execution_count": 157,
   "metadata": {},
   "outputs": [
    {
     "name": "stdout",
     "output_type": "stream",
     "text": [
      "(6, 8, 6806)\n"
     ]
    }
   ],
   "source": [
    "import os\n",
    "import numpy as np\n",
    "\n",
    "X = []\n",
    "y = []\n",
    "caracteristicas = []\n",
    "classes = []\n",
    "\n",
    "arquivos = os.listdir('../data/EMG_data_for_gestures-master/01')\n",
    "#print(arquivos)\n",
    "\n",
    "experimento_caracteristicas = [[],[],[],[],[],[]]\n",
    "experimento_classes = []\n",
    "    \n",
    "for arquivo in arquivos:\n",
    "    #le o arquivo e divide linha por linha\n",
    "    conteudo = open('../data/EMG_data_for_gestures-master/01/' + arquivo).read().split('\\n')\n",
    "    #remove ultima linha (linha em branco)\n",
    "    conteudo.pop()\n",
    "    #remove primeira linha (cabecalho)\n",
    "    conteudo.pop(0)\n",
    "    #print(conteudo[0])\n",
    "    \n",
    "    for i in range(len(conteudo)):\n",
    "        conteudo[i] = conteudo[i].split('\\t')\n",
    "        #remove primeira linha (campo \"time\")\n",
    "        conteudo[i].pop(0)\n",
    "        if conteudo[i][-1] != '0' and conteudo[i][-1] != '7':\n",
    "            experimento_caracteristicas[int(conteudo[i][-1]) - 1].append(conteudo[i][:-1])\n",
    "            \n",
    "#print(len(experimento_caracteristicas))\n",
    "#for i in range(len(experimento_caracteristicas)):\n",
    "#    print(len(experimento_caracteristicas[i]))\n",
    "\n",
    "menor = min([len(c) for c in experimento_caracteristicas])\n",
    "#print('Menor:', menor)\n",
    "caracs = [c[:menor] for c in experimento_caracteristicas]\n",
    "caracs = np.array(caracs)\n",
    "#print(caracs.shape)\n",
    "caracs = caracs.swapaxes(1, 2)\n",
    "caracs = caracs.astype(np.float)\n",
    "print(caracs.shape)"
   ]
  },
  {
   "cell_type": "code",
   "execution_count": 158,
   "metadata": {},
   "outputs": [
    {
     "name": "stdout",
     "output_type": "stream",
     "text": [
      "(6, 8, 427, 32)\n"
     ]
    }
   ],
   "source": [
    "salto = 15\n",
    "segmento = 32\n",
    "n_win = int((caracs.shape[-1] - segmento) / salto) + 1\n",
    "ids = np.arange(n_win) * salto\n",
    "x = np.array([caracs[:,:,k:(k + segmento)] for k in ids]).transpose(1, 2, 0, 3)\n",
    "x = x.transpose(0, 1, 3, 2)\n",
    "x = x[:,:,:,:427]\n",
    "x = x.transpose(0, 1, 3, 2)\n",
    "print(x.shape)"
   ]
  },
  {
   "cell_type": "code",
   "execution_count": null,
   "metadata": {},
   "outputs": [],
   "source": []
  },
  {
   "cell_type": "code",
   "execution_count": 159,
   "metadata": {},
   "outputs": [
    {
     "name": "stdout",
     "output_type": "stream",
     "text": [
      "(6, 8, 427)\n",
      "(6, 8, 427)\n"
     ]
    }
   ],
   "source": [
    "# VAR\n",
    "var = np.sum(x ** 2, axis=-1) / (np.prod(x.shape[:-1]) - 1)\n",
    "print(var.shape)\n",
    "# RMS\n",
    "rms = np.sqrt(np.sum(np.abs(x) ** 2, axis=-1) / (np.prod(x.shape[:-1]) - 1))\n",
    "print(rms.shape)"
   ]
  },
  {
   "cell_type": "code",
   "execution_count": null,
   "metadata": {},
   "outputs": [],
   "source": []
  },
  {
   "cell_type": "code",
   "execution_count": 160,
   "metadata": {},
   "outputs": [
    {
     "name": "stdout",
     "output_type": "stream",
     "text": [
      "(6, 8, 427, 17)\n"
     ]
    }
   ],
   "source": [
    "from scipy.signal import stft\n",
    "\n",
    "_, _, w = stft(caracs, fs=1000, nperseg=32, noverlap=16)\n",
    "w = np.swapaxes(w, 2, 3)\n",
    "\n",
    "print(w.shape)"
   ]
  },
  {
   "cell_type": "code",
   "execution_count": 161,
   "metadata": {},
   "outputs": [
    {
     "name": "stdout",
     "output_type": "stream",
     "text": [
      "(6, 8, 427)\n",
      "(6, 8, 427)\n"
     ]
    }
   ],
   "source": [
    "# definição da função PSD para o sinal no domínio da frequência\n",
    "def PSD(x):\n",
    "    return np.sqrt(np.abs(x))\n",
    "\n",
    "# FMD\n",
    "fmd = np.sum(PSD(w), axis=-1) / 2\n",
    "print(fmd.shape)\n",
    "# MMDF\n",
    "mmdf = np.sum(np.abs(w), axis=-1) / 2\n",
    "print(mmdf.shape)"
   ]
  },
  {
   "cell_type": "code",
   "execution_count": 162,
   "metadata": {},
   "outputs": [
    {
     "ename": "ValueError",
     "evalue": "cannot reshape array of size 20496 into shape (5094,8)",
     "output_type": "error",
     "traceback": [
      "\u001b[0;31m---------------------------------------------------------------------------\u001b[0m",
      "\u001b[0;31mValueError\u001b[0m                                Traceback (most recent call last)",
      "\u001b[0;32m<ipython-input-162-70fae95d0317>\u001b[0m in \u001b[0;36m<module>\u001b[0;34m\u001b[0m\n\u001b[1;32m      3\u001b[0m \u001b[0;32mfor\u001b[0m \u001b[0mfeature\u001b[0m \u001b[0;32min\u001b[0m \u001b[0;34m(\u001b[0m\u001b[0mvar\u001b[0m\u001b[0;34m,\u001b[0m \u001b[0mrms\u001b[0m\u001b[0;34m,\u001b[0m \u001b[0mfmd\u001b[0m\u001b[0;34m,\u001b[0m \u001b[0mmmdf\u001b[0m\u001b[0;34m)\u001b[0m\u001b[0;34m:\u001b[0m\u001b[0;34m\u001b[0m\u001b[0m\n\u001b[1;32m      4\u001b[0m     \u001b[0mfeature\u001b[0m \u001b[0;34m=\u001b[0m \u001b[0mfeature\u001b[0m\u001b[0;34m.\u001b[0m\u001b[0mtranspose\u001b[0m\u001b[0;34m(\u001b[0m\u001b[0;36m0\u001b[0m\u001b[0;34m,\u001b[0m \u001b[0;36m2\u001b[0m\u001b[0;34m,\u001b[0m \u001b[0;36m1\u001b[0m\u001b[0;34m)\u001b[0m\u001b[0;34m\u001b[0m\u001b[0m\n\u001b[0;32m----> 5\u001b[0;31m     \u001b[0mfeature\u001b[0m \u001b[0;34m=\u001b[0m \u001b[0mfeature\u001b[0m\u001b[0;34m.\u001b[0m\u001b[0mreshape\u001b[0m\u001b[0;34m(\u001b[0m\u001b[0;36m6\u001b[0m \u001b[0;34m*\u001b[0m \u001b[0;36m849\u001b[0m\u001b[0;34m,\u001b[0m \u001b[0;36m8\u001b[0m\u001b[0;34m)\u001b[0m\u001b[0;34m\u001b[0m\u001b[0m\n\u001b[0m\u001b[1;32m      6\u001b[0m     \u001b[0;31m#print('Feature: {}'.format(feature), feature.shape)\u001b[0m\u001b[0;34m\u001b[0m\u001b[0;34m\u001b[0m\u001b[0m\n\u001b[1;32m      7\u001b[0m     \u001b[0mfeatures\u001b[0m\u001b[0;34m.\u001b[0m\u001b[0mappend\u001b[0m\u001b[0;34m(\u001b[0m\u001b[0mfeature\u001b[0m\u001b[0;34m)\u001b[0m\u001b[0;34m\u001b[0m\u001b[0m\n",
      "\u001b[0;31mValueError\u001b[0m: cannot reshape array of size 20496 into shape (5094,8)"
     ]
    }
   ],
   "source": [
    "#vetor de caracteristicas\n",
    "features = list()\n",
    "for feature in (var, rms, fmd, mmdf):\n",
    "    feature = feature.transpose(0, 2, 1)\n",
    "    feature = feature.reshape(6 * 849, 8)\n",
    "    #print('Feature: {}'.format(feature), feature.shape)\n",
    "    features.append(feature)\n",
    "\n",
    "X = np.concatenate(features, axis=-1)\n",
    "print(X.shape)"
   ]
  },
  {
   "cell_type": "code",
   "execution_count": null,
   "metadata": {},
   "outputs": [],
   "source": [
    "y = np.array([[str(i)] * int(X.shape[0] / 6) for i in range(6)])\n",
    "y = y.reshape(y.shape[0] * y.shape[1])\n",
    "y.shape"
   ]
  },
  {
   "cell_type": "code",
   "execution_count": null,
   "metadata": {},
   "outputs": [],
   "source": [
    "from sklearn.model_selection import train_test_split\n",
    "from sklearn.svm import SVC\n",
    "\n",
    "# dividindo as porções de dados em treino e teste (70 e 30% respectivamente)\n",
    "X_train, X_test, y_train, y_test = train_test_split(X, y, test_size=0.3, shuffle=True)\n",
    "\n",
    "# o trabalho das diferentes parametrizações ficam a cargo dos alunos\n",
    "clf = SVC(gamma='auto')\n",
    "clf.fit(X_train, y_train)"
   ]
  },
  {
   "cell_type": "code",
   "execution_count": null,
   "metadata": {},
   "outputs": [],
   "source": []
  },
  {
   "cell_type": "code",
   "execution_count": null,
   "metadata": {},
   "outputs": [],
   "source": []
  },
  {
   "cell_type": "code",
   "execution_count": null,
   "metadata": {},
   "outputs": [],
   "source": [
    "res = clf.predict(X_test)\n",
    "tot_hit = sum([1 for i in range(len(res)) if res[i] == y_test[i]])\n",
    "print('Acurácia: {:.2f}%'.format(tot_hit / X_test.shape[0] * 100))"
   ]
  },
  {
   "cell_type": "code",
   "execution_count": null,
   "metadata": {},
   "outputs": [],
   "source": []
  },
  {
   "cell_type": "code",
   "execution_count": null,
   "metadata": {},
   "outputs": [],
   "source": []
  },
  {
   "cell_type": "code",
   "execution_count": null,
   "metadata": {},
   "outputs": [],
   "source": []
  },
  {
   "cell_type": "code",
   "execution_count": null,
   "metadata": {},
   "outputs": [],
   "source": []
  },
  {
   "cell_type": "code",
   "execution_count": null,
   "metadata": {},
   "outputs": [],
   "source": []
  },
  {
   "cell_type": "code",
   "execution_count": null,
   "metadata": {},
   "outputs": [],
   "source": []
  },
  {
   "cell_type": "code",
   "execution_count": null,
   "metadata": {},
   "outputs": [],
   "source": []
  },
  {
   "cell_type": "code",
   "execution_count": null,
   "metadata": {},
   "outputs": [],
   "source": []
  },
  {
   "cell_type": "code",
   "execution_count": null,
   "metadata": {},
   "outputs": [],
   "source": []
  },
  {
   "cell_type": "code",
   "execution_count": null,
   "metadata": {},
   "outputs": [],
   "source": []
  },
  {
   "cell_type": "code",
   "execution_count": null,
   "metadata": {},
   "outputs": [],
   "source": []
  },
  {
   "cell_type": "code",
   "execution_count": null,
   "metadata": {},
   "outputs": [],
   "source": []
  },
  {
   "cell_type": "code",
   "execution_count": null,
   "metadata": {},
   "outputs": [],
   "source": []
  },
  {
   "cell_type": "code",
   "execution_count": null,
   "metadata": {},
   "outputs": [],
   "source": []
  },
  {
   "cell_type": "code",
   "execution_count": null,
   "metadata": {},
   "outputs": [],
   "source": []
  },
  {
   "cell_type": "code",
   "execution_count": null,
   "metadata": {},
   "outputs": [],
   "source": []
  },
  {
   "cell_type": "code",
   "execution_count": null,
   "metadata": {},
   "outputs": [],
   "source": []
  },
  {
   "cell_type": "code",
   "execution_count": null,
   "metadata": {},
   "outputs": [],
   "source": []
  },
  {
   "cell_type": "code",
   "execution_count": null,
   "metadata": {},
   "outputs": [],
   "source": []
  },
  {
   "cell_type": "code",
   "execution_count": null,
   "metadata": {},
   "outputs": [],
   "source": []
  },
  {
   "cell_type": "code",
   "execution_count": null,
   "metadata": {},
   "outputs": [],
   "source": []
  },
  {
   "cell_type": "code",
   "execution_count": null,
   "metadata": {},
   "outputs": [],
   "source": []
  },
  {
   "cell_type": "code",
   "execution_count": null,
   "metadata": {},
   "outputs": [],
   "source": []
  },
  {
   "cell_type": "code",
   "execution_count": null,
   "metadata": {},
   "outputs": [],
   "source": []
  },
  {
   "cell_type": "code",
   "execution_count": null,
   "metadata": {},
   "outputs": [],
   "source": []
  },
  {
   "cell_type": "code",
   "execution_count": null,
   "metadata": {},
   "outputs": [],
   "source": []
  }
 ],
 "metadata": {
  "kernelspec": {
   "display_name": "Python 3",
   "language": "python",
   "name": "python3"
  },
  "language_info": {
   "codemirror_mode": {
    "name": "ipython",
    "version": 3
   },
   "file_extension": ".py",
   "mimetype": "text/x-python",
   "name": "python",
   "nbconvert_exporter": "python",
   "pygments_lexer": "ipython3",
   "version": "3.5.3"
  }
 },
 "nbformat": 4,
 "nbformat_minor": 2
}
