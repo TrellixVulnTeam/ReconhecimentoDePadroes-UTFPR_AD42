{
 "cells": [
  {
   "cell_type": "markdown",
   "metadata": {},
   "source": [
    "# Reconhecimento de Padrões\n",
    "#### UTFPR — Universidade Tecnológica Federal do Paraná \n",
    "#### Nomes: Rafael Menezes Barboza, Carlos Alexandre Peron dos Santos\n",
    "\n",
    "\n",
    "Este trabalho tem como objetivo buscar por caracteristicas na base \"EMG data for gestures Data Set\" e assim identificar posições das maos. O link abaixo é referente a base de dados utilizada disponivel para download.\n",
    "https://archive.ics.uci.edu/ml/datasets/EMG+data+for+gestures#\n",
    "\n",
    "O codigo fonte esta disponivel publicamente no GitHub e pode ser acessado pelo link abaixo.\n",
    "https://github.com/rmmenezes/ReconhecimentoDePadroes-UTFPR.git"
   ]
  },
  {
   "cell_type": "markdown",
   "metadata": {},
   "source": [
    "Import das bibliotecas e estruturas necessárias"
   ]
  },
  {
   "cell_type": "code",
   "execution_count": 25,
   "metadata": {},
   "outputs": [],
   "source": [
    "import os\n",
    "import numpy as np\n",
    "\n",
    "X = []\n",
    "y = []\n",
    "caracteristicas = []\n",
    "classes = []"
   ]
  },
  {
   "cell_type": "raw",
   "metadata": {},
   "source": [
    "Leitura dos dados"
   ]
  },
  {
   "cell_type": "code",
   "execution_count": 26,
   "metadata": {},
   "outputs": [
    {
     "name": "stdout",
     "output_type": "stream",
     "text": [
      "(1816,) (1816,)\n",
      "(1538, 8)\n"
     ]
    }
   ],
   "source": [
    "diretorio_db = \"../data/EMG_data_for_gestures-master\"\n",
    "pastas = os.listdir(diretorio_db)\n",
    "for pasta in pastas:\n",
    "    arquivos = os.listdir(diretorio_db + '/' + pasta)\n",
    "    #print(pasta)\n",
    "    for arquivo in arquivos:\n",
    "        #le o arquivo e divide linha por linha\n",
    "        conteudo = open(diretorio_db + '/' + pasta + '/' + arquivo).read().split('\\n')\n",
    "        #remove ultima linha (linha em branco)\n",
    "        conteudo.pop()\n",
    "        #remove primeira linha (cabecalho)\n",
    "        conteudo.pop(0)\n",
    "        classe_atual = '0'\n",
    "        experimento_caracteristicas = []\n",
    "        experimento_classes = []\n",
    "        for i in range(len(conteudo)):\n",
    "            conteudo[i] = conteudo[i].split('\\t')\n",
    "            #remove primeira linha (campo \"time\")\n",
    "            conteudo[i].pop(0)\n",
    "            if conteudo[i][-1] != classe_atual:\n",
    "                caracteristicas.append(experimento_caracteristicas)\n",
    "                classes.append(experimento_classes)\n",
    "                classe_atual = conteudo[i][-1]\n",
    "\n",
    "                experimento_caracteristicas = []\n",
    "                experimento_classes = []\n",
    "                experimento_caracteristicas.append(conteudo[i][:-1])\n",
    "                experimento_classes.append(conteudo[i][-1])\n",
    "            else:\n",
    "                experimento_caracteristicas.append(conteudo[i][:-1])\n",
    "                experimento_classes.append(conteudo[i][-1])\n",
    "            \n",
    "        caracteristicas.append(experimento_caracteristicas)\n",
    "        classes.append(experimento_classes)\n",
    "        #print(len(caracteristicas))\n",
    "        \n",
    "\n",
    "for i in range(len(caracteristicas)):\n",
    "    for j in range(len(caracteristicas[i])):\n",
    "        caracteristicas[i][j] = np.array(caracteristicas[i][j])\n",
    "    caracteristicas[i] = np.array(caracteristicas[i])\n",
    "    classes[i] = np.array(classes[i])\n",
    "caracteristicas = np.array(caracteristicas)\n",
    "classes = np.array(classes)\n",
    "\n",
    "print(caracteristicas.shape, classes.shape)\n",
    "print(caracteristicas[0].shape)"
   ]
  },
  {
   "cell_type": "code",
   "execution_count": 27,
   "metadata": {},
   "outputs": [
    {
     "name": "stdout",
     "output_type": "stream",
     "text": [
      "(1816,) (1816,)\n",
      "(1538, 8)\n",
      "(1494, 8)\n",
      "(2, 2, 2)\n",
      "[[ 6  8]\n",
      " [10 12]]\n",
      "\n",
      "\n",
      "[[ 4  6]\n",
      " [12 14]]\n",
      "\n",
      "\n",
      "[[ 3  7]\n",
      " [11 15]]\n"
     ]
    }
   ],
   "source": [
    "print(caracteristicas.shape, classes.shape)\n",
    "print(caracteristicas[0].shape)\n",
    "print(caracteristicas[1].shape)\n",
    "\n",
    "\n",
    "x =np.array([[[1,2], [3,4]],\n",
    "             [[5,6], [7,8]]])\n",
    "print(x.shape)\n",
    "\n",
    "print(np.sum(x, axis=0))\n",
    "print('\\n')\n",
    "print(np.sum(x, axis=1))\n",
    "print('\\n')\n",
    "print(np.sum(x, axis=2))\n",
    "\n",
    "#resultado = np.sum(caracteristicas, axis=0)\n",
    "#for i in range(len(resultado)):\n",
    "#    resultado[i] /= len(caracteristicas)\n",
    "#print(resultado.shape)\n",
    "\n",
    "\n"
   ]
  },
  {
   "cell_type": "code",
   "execution_count": null,
   "metadata": {},
   "outputs": [],
   "source": [
    "quantos_valores = []\n",
    "\n",
    "somas_geral = []\n",
    "somas_temp = []\n",
    "\n",
    "somas_quadraticas = []\n",
    "somas_quadraticas_temp = []\n",
    "\n",
    "somas_quadraticas_sem_modulo = []\n",
    "somas_quadraticas_sem_modulo_temp = []\n",
    "\n",
    "somas_wf = []\n",
    "somas_wf_temp = []\n",
    "\n",
    "for i in range(8):\n",
    "    somas_temp.append(0.0)\n",
    "    somas_quadraticas_temp.append(0.0)\n",
    "    somas_wf_temp.append(0.0)\n",
    "    somas_quadraticas_sem_modulo_temp.append(0.0)\n",
    "\n",
    "for experimento in caracteristicas:\n",
    "    for tipo in experimento:\n",
    "        cont = 0\n",
    "        for i in range(len(tipo)):\n",
    "            somas_temp[i] += abs(float(tipo[i]))\n",
    "            somas_quadraticas_temp[i] += abs(float(tipo[i])) ** 2\n",
    "            somas_quadraticas_sem_modulo_temp[i] += float(tipo[i]) ** 2\n",
    "            cont += 1\n",
    "            if(cont < len(tipo) - 1):\n",
    "                somas_wf_temp[i] = abs(float(tipo[i+1]) - float(tipo[i]))\n",
    "    somas_geral.append(somas_temp)\n",
    "    somas_quadraticas.append(somas_quadraticas_temp)\n",
    "    somas_wf.append(somas_wf_temp)\n",
    "    somas_quadraticas_sem_modulo.append(somas_quadraticas_sem_modulo_temp)\n",
    "    \n",
    "    #arrumar esses vetores, mover +1 nivel interno\n",
    "    quantos_valores.append(cont)\n",
    "    \n",
    "\n",
    "print(len(somas_geral), len(somas_geral[0]))\n",
    "print(len(somas_quadraticas), len(somas_quadraticas[0]))\n",
    "print(len(somas_wf), len(somas_wf[0]))\n",
    "print(len(somas_quadraticas_sem_modulo), len(somas_quadraticas_sem_modulo[0]))\n",
    "print(len(quantos_valores))\n",
    "\n",
    "\n"
   ]
  },
  {
   "cell_type": "code",
   "execution_count": 8,
   "metadata": {},
   "outputs": [
    {
     "name": "stdout",
     "output_type": "stream",
     "text": [
      "(1816, 8)\n",
      "(1816, 8)\n",
      "(1816, 8)\n",
      "(1816, 8)\n",
      "(1816, 8)\n",
      "(1816, 8)\n",
      "(1816, 8)\n"
     ]
    }
   ],
   "source": [
    "import math\n",
    "\n",
    "iemg = np.array(somas_geral)\n",
    "\n",
    "mav = np.array(somas_geral)\n",
    "for i in range(len(mav)):\n",
    "    for j in range(len(mav[i])):\n",
    "        mav[i][j] *= 1/len(quantos_valores)\n",
    "\n",
    "ssi = np.array(somas_quadraticas)\n",
    "\n",
    "mavs = mav\n",
    "for i in range(len(mavs)-1):\n",
    "    mavs[i] = mavs[i+1] - mavs[i]\n",
    "\n",
    "var = np.array(somas_quadraticas_sem_modulo)\n",
    "for i in range(len(var)):\n",
    "    for j in range(len(var[i])):\n",
    "        var[i][j] *= 1/(len(quantos_valores) - 1)\n",
    "\n",
    "rms = ssi\n",
    "for i in range(len(rms)):\n",
    "    for j in range(len(rms[i])):\n",
    "        rms[i][j] *= math.sqrt(1/len(quantos_valores))\n",
    "        \n",
    "wf = np.array(somas_wf)\n",
    "\n",
    "\n",
    "print(iemg.shape)\n",
    "print(mav.shape)\n",
    "print(ssi.shape)\n",
    "print(mavs.shape)\n",
    "print(var.shape)\n",
    "print(rms.shape)\n",
    "print(wf.shape)\n",
    "        \n",
    "\n",
    "\n",
    "# [\n",
    "#     [[1,2,3], [1,2,3], [1,2,3], [1,2,3]], # canal 1\n",
    "#     [[1,2,3], [1,2,3], [1,2,3], [1,2,3]], # canal 2\n",
    "#     [[1,2,3], [1,2,3], [1,2,3], [1,2,3]], # canal 3\n",
    "# ]\n",
    "\n",
    "# [\n",
    "#     [\n",
    "#         [2, 3, 4, 5], [2, 3, 4, 5], [2, 3, 4, 5],\n",
    "#     ],\n",
    "#     [\n",
    "#         [2, 3, 4, 5], [2, 3, 4, 5], [2, 3, 4, 5],\n",
    "#     ],\n",
    "#     [\n",
    "#         [2, 3, 4, 5], [2, 3, 4, 5], [2, 3, 4, 5],\n",
    "#     ],\n",
    "# ]\n",
    "\n"
   ]
  },
  {
   "cell_type": "markdown",
   "metadata": {},
   "source": [
    "transoformação para o domínio da frequência"
   ]
  },
  {
   "cell_type": "code",
   "execution_count": 17,
   "metadata": {},
   "outputs": [
    {
     "ename": "AxisError",
     "evalue": "axis 2 is out of bounds for array of dimension 1",
     "output_type": "error",
     "traceback": [
      "\u001b[0;31m---------------------------------------------------------------------------\u001b[0m",
      "\u001b[0;31mAxisError\u001b[0m                                 Traceback (most recent call last)",
      "\u001b[0;32m<ipython-input-17-725184b9c536>\u001b[0m in \u001b[0;36m<module>\u001b[0;34m\u001b[0m\n\u001b[1;32m     11\u001b[0m \u001b[0;34m\u001b[0m\u001b[0m\n\u001b[1;32m     12\u001b[0m \u001b[0mcaracteristicas\u001b[0m \u001b[0;34m=\u001b[0m \u001b[0mnp\u001b[0m\u001b[0;34m.\u001b[0m\u001b[0marray\u001b[0m\u001b[0;34m(\u001b[0m\u001b[0mcaracteristicas\u001b[0m\u001b[0;34m)\u001b[0m\u001b[0;34m\u001b[0m\u001b[0m\n\u001b[0;32m---> 13\u001b[0;31m \u001b[0mfs\u001b[0m \u001b[0;34m=\u001b[0m \u001b[0mnp\u001b[0m\u001b[0;34m.\u001b[0m\u001b[0mapply_along_axis\u001b[0m\u001b[0;34m(\u001b[0m\u001b[0mstft\u001b[0m\u001b[0;34m,\u001b[0m \u001b[0;36m2\u001b[0m\u001b[0;34m,\u001b[0m \u001b[0mcaracteristicas\u001b[0m\u001b[0;34m,\u001b[0m \u001b[0mn_fft\u001b[0m\u001b[0;34m=\u001b[0m\u001b[0;36m512\u001b[0m\u001b[0;34m,\u001b[0m \u001b[0mhop_length\u001b[0m\u001b[0;34m=\u001b[0m\u001b[0;36m512\u001b[0m\u001b[0;34m)\u001b[0m\u001b[0;34m\u001b[0m\u001b[0m\n\u001b[0m\u001b[1;32m     14\u001b[0m \u001b[0mprint\u001b[0m\u001b[0;34m(\u001b[0m\u001b[0mfs\u001b[0m\u001b[0;34m.\u001b[0m\u001b[0mshape\u001b[0m\u001b[0;34m)\u001b[0m\u001b[0;34m\u001b[0m\u001b[0m\n",
      "\u001b[0;32m<__array_function__ internals>\u001b[0m in \u001b[0;36mapply_along_axis\u001b[0;34m(*args, **kwargs)\u001b[0m\n",
      "\u001b[0;32m~/Documentos/ReconhecimentoDePadroes-UTFPR/lib/python3.5/site-packages/numpy/lib/shape_base.py\u001b[0m in \u001b[0;36mapply_along_axis\u001b[0;34m(func1d, axis, arr, *args, **kwargs)\u001b[0m\n\u001b[1;32m    361\u001b[0m     \u001b[0marr\u001b[0m \u001b[0;34m=\u001b[0m \u001b[0masanyarray\u001b[0m\u001b[0;34m(\u001b[0m\u001b[0marr\u001b[0m\u001b[0;34m)\u001b[0m\u001b[0;34m\u001b[0m\u001b[0m\n\u001b[1;32m    362\u001b[0m     \u001b[0mnd\u001b[0m \u001b[0;34m=\u001b[0m \u001b[0marr\u001b[0m\u001b[0;34m.\u001b[0m\u001b[0mndim\u001b[0m\u001b[0;34m\u001b[0m\u001b[0m\n\u001b[0;32m--> 363\u001b[0;31m     \u001b[0maxis\u001b[0m \u001b[0;34m=\u001b[0m \u001b[0mnormalize_axis_index\u001b[0m\u001b[0;34m(\u001b[0m\u001b[0maxis\u001b[0m\u001b[0;34m,\u001b[0m \u001b[0mnd\u001b[0m\u001b[0;34m)\u001b[0m\u001b[0;34m\u001b[0m\u001b[0m\n\u001b[0m\u001b[1;32m    364\u001b[0m \u001b[0;34m\u001b[0m\u001b[0m\n\u001b[1;32m    365\u001b[0m     \u001b[0;31m# arr, with the iteration axis at the end\u001b[0m\u001b[0;34m\u001b[0m\u001b[0;34m\u001b[0m\u001b[0m\n",
      "\u001b[0;31mAxisError\u001b[0m: axis 2 is out of bounds for array of dimension 1"
     ]
    }
   ],
   "source": [
    "#from librosa import stft\n",
    "#for i in range(len(caracteristicas)):\n",
    "#    for j in range(len(caracteristicas[i])):\n",
    "#        for k in range(len(caracteristicas[i][j])):\n",
    "#            caracteristicas[i][j][k] = float(caracteristicas[i][j][k])\n",
    "            \n",
    "#for item in caracteristicas:\n",
    "#    resultado = np.abs(stft(item, n_fft=512, hop_length=512))\n",
    "#    print(resultado.shape)\n",
    "#    input()\n",
    "\n",
    "for item in caracteristica:\n",
    "    resultado = np.apply_along_axis(item, 1, caracteristicas, n_fft=512, hop_length=512)\n",
    "    print(resultado.shape)"
   ]
  },
  {
   "cell_type": "code",
   "execution_count": null,
   "metadata": {},
   "outputs": [],
   "source": []
  }
 ],
 "metadata": {
  "kernelspec": {
   "display_name": "Python 3",
   "language": "python",
   "name": "python3"
  },
  "language_info": {
   "codemirror_mode": {
    "name": "ipython",
    "version": 3
   },
   "file_extension": ".py",
   "mimetype": "text/x-python",
   "name": "python",
   "nbconvert_exporter": "python",
   "pygments_lexer": "ipython3",
   "version": "3.5.3"
  }
 },
 "nbformat": 4,
 "nbformat_minor": 2
}
